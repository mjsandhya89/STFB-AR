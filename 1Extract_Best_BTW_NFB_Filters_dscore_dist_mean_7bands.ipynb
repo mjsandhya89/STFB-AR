{
 "cells": [
  {
   "cell_type": "code",
   "execution_count": 1,
   "id": "bba6ab0b",
   "metadata": {},
   "outputs": [],
   "source": [
    "from san_utils import *\n",
    "\n",
    "import moabb,sys,pickle,os, openpyxl\n",
    "from moabb.datasets import BNCI2014001\n",
    "from moabb.evaluations import CrossSessionEvaluation,WithinSessionEvaluation\n",
    "from moabb.paradigms import FilterBankMotorImagery,FilterBankLeftRightImagery, LeftRightImagery,MotorImagery\n",
    "from moabb.pipelines.utils import FilterBank\n",
    "from sklearn.model_selection import train_test_split\n",
    "\n",
    "\n",
    "import numpy as np\n",
    "import pandas as pd\n",
    "from sklearn.metrics import silhouette_samples,silhouette_score,calinski_harabasz_score,davies_bouldin_score\n"
   ]
  },
  {
   "cell_type": "code",
   "execution_count": null,
   "id": "b94980ee",
   "metadata": {},
   "outputs": [],
   "source": [
    "dataset = BNCI2014001()\n",
    "dataset_name=\"BNCI2014001\"\n",
    "subjects = [1, 2, 3,4,5,6,7,8,9]; n_class=4 ; sfreq=250 \n",
    "fmin = 4;fmax = 40; \n",
    "bandwidths=[[4],[2,4],[2,4,6],[2,4,6,8]]\n",
    "BW=bandwidths[0]\n",
    "allfilters=getfilters(fmin,fmax,bandwidth=BW) #from MS NN IV \n",
    "# a=list(allfilters)\n",
    "# a.append([8.,30.])\n",
    "# a.append([7.,35.])\n",
    "# allfilters=np.array(a)\n",
    "key_str = ''.join(map(str, BW))\n",
    "print(\"key:\",key_str, \"|| BW:\",BW )\n",
    "\n",
    "# pkl_sdirec=dataset_name+\"/tw_fb\"+key_str+\"/\"\n",
    "# pkl_sdirec"
   ]
  },
  {
   "cell_type": "code",
   "execution_count": null,
   "id": "60bf0880",
   "metadata": {
    "scrolled": true
   },
   "outputs": [],
   "source": [
    "##### Time window select ######\n",
    "paradigm = MotorImagery(fmin=fmin,fmax=fmax,n_classes=n_class)\n",
    "X, y, meta = paradigm.get_data(dataset=dataset, subjects=[1])\n",
    "le,le_label_map=label_map_fn(y)\n",
    "\n",
    "last_sec=int(X.shape[2]/sfreq)\n",
    "timewindows=get_timewin(0,last_sec) #[(0,2),(0,2.5),(0,3),(0,3.5),(0,4),(0.5,2.5),(0.5,3),(0.5,3.5),(0.5,4),(1,3),(1,3.5),(1,4),(1.5,3.5),(1.5,4),(2,4)]\n",
    "timewin={};all_timewin={};dscore_tw={}\n",
    "for subject in subjects:\n",
    "    print(\"subject:\",subject)\n",
    "    X, y, meta = paradigm.get_data(dataset=dataset, subjects=[subject])\n",
    "\n",
    "    select_indices = list(np.where(meta[\"session\"] == \"session_T\")[0])\n",
    "    X0=X[select_indices,:];y0=y[select_indices]\n",
    "    select_indices = list(np.where(meta[\"session\"] == \"session_E\")[0])\n",
    "    X1=X[select_indices,:];y1=y[select_indices]\n",
    "    y_train = le.transform(y0);y_test = le.transform(y1)\n",
    "    X_train=X0;X_test=X1\n",
    "    # print(X_train.shape,y_train.shape,X_test.shape,y_test.shape)\n",
    "    \n",
    "    timewin[subject],all_timewin[subject], dscore_tw[subject]=best_time_dscoredm(timewindows,X_train,y_train,sfreq)#dscore based selection"
   ]
  },
  {
   "cell_type": "code",
   "execution_count": null,
   "id": "46f727e1",
   "metadata": {},
   "outputs": [],
   "source": [
    "###save \n",
    "with open(pkl_sdirec+'timewin.pkl', 'wb') as file:\n",
    "    pickle.dump(timewin, file)   \n",
    "with open(pkl_sdirec+'all_timewin.pkl', 'wb') as file:\n",
    "    pickle.dump(all_timewin, file)\n",
    "with open(pkl_sdirec+'dscore_tw.pkl', 'wb') as file:\n",
    "    pickle.dump(dscore_tw, file)\n",
    "pkl_sdirec"
   ]
  },
  {
   "cell_type": "code",
   "execution_count": 3,
   "id": "a383634d",
   "metadata": {},
   "outputs": [],
   "source": [
    "### load\n",
    "with open(pkl_sdirec+'timewin.pkl', 'rb') as file:\n",
    "    timewin=pickle.load(file)\n",
    "with open(pkl_sdirec+'all_timewin.pkl', 'rb') as file:\n",
    "    all_timewin=pickle.load( file)   \n",
    "with open(pkl_sdirec+'dscore_tw.pkl', 'rb') as file:\n",
    "    dscore_tw=pickle.load( file)"
   ]
  },
  {
   "cell_type": "code",
   "execution_count": null,
   "id": "a3ffbdd5",
   "metadata": {
    "scrolled": true
   },
   "outputs": [],
   "source": [
    "#### freq band select ######\n",
    "def savepkl(pkl_sdirec,subject,sdict):\n",
    "    sfilename=pkl_sdirec+str(subject)+'_scores.pkl'\n",
    "    with open(sfilename, 'wb') as file:\n",
    "        pickle.dump(sdict, file)\n",
    "    print(\"saved pkl file!\")\n",
    "    return\n",
    "    \n",
    "nband_Sel=np.arange(1,len(allfilters)+1)\n",
    "sub_filters={};all_filters={};dscore_fb={}\n",
    "paradigm = FilterBankMotorImagery(filters=allfilters,n_classes=n_class)\n",
    "for subject in subjects:\n",
    "    print(\"subject:\",subject)\n",
    "    X, y, meta = paradigm.get_data(dataset=dataset, subjects=[subject])\n",
    "    s1=int(sfreq*timewin[subject][0]);     s2=int(sfreq*timewin[subject][1]) ; X=X[:,:,s1:s2]\n",
    "    \n",
    "    select_indices = list(np.where(meta[\"session\"] == \"session_T\")[0])\n",
    "    X0=X[select_indices,:];y0=y[select_indices]\n",
    "    select_indices = list(np.where(meta[\"session\"] == \"session_E\")[0])\n",
    "    X1=X[select_indices,:];y1=y[select_indices]\n",
    "    \n",
    "    y0 = le.transform(y0);y1 = le.transform(y1)\n",
    "\n",
    "    filters={}\n",
    "    for nb in nband_Sel:\n",
    "        print(\"nband:\",nb)\n",
    "        filters[nb],all_filters[subject],dscore_fb[subject]=bestfilters_dscoredm(allfilters,X0,y0,nb)#dscore based selection\n",
    "    sub_filters[subject]=filters\n",
    "    sdict={\"all_filters\":all_filters,\"dscore_fb\":dscore_fb, \"sub_filters\":sub_filters,\n",
    "           \"le_label_map\":le_label_map,\"X0\":X0, \"y0\":y0, \"X1\":X1, \"y1\":y1}\n",
    "    savepkl(pkl_sdirec,subject,sdict)"
   ]
  },
  {
   "cell_type": "code",
   "execution_count": 11,
   "id": "7851bf19",
   "metadata": {},
   "outputs": [],
   "source": [
    "\n",
    "########### save filters, dscore in .pkl file and .csv file #######\n",
    "with open(pkl_sdirec+'le_label_map.pkl', 'wb') as file:\n",
    "    pickle.dump(le_label_map, file)\n",
    "\n",
    "with open(pkl_sdirec+'all_filters.pkl', 'wb') as file:\n",
    "    pickle.dump(all_filters, file)\n",
    "with open(pkl_sdirec+'dscore_fb.pkl', 'wb') as file:\n",
    "    pickle.dump(dscore_fb, file)\n",
    "with open(pkl_sdirec+'sub_filters.pkl', 'wb') as file:\n",
    "    pickle.dump(sub_filters, file)      \n",
    "    "
   ]
  },
  {
   "cell_type": "code",
   "execution_count": 12,
   "id": "4d79724b",
   "metadata": {},
   "outputs": [],
   "source": [
    "############### load .pkl file #############3\n",
    "with open(pkl_sdirec+'le_label_map.pkl', 'rb') as file:\n",
    "    le_label_map=pickle.load( file)\n",
    "    \n",
    "with open(pkl_sdirec+'all_filters.pkl', 'rb') as file:\n",
    "    all_filters=pickle.load(file)\n",
    "with open(pkl_sdirec+'dscore_fb.pkl', 'rb') as file:\n",
    "    dscore_fb=pickle.load( file)   \n",
    "with open(pkl_sdirec+'sub_filters.pkl', 'rb') as file:\n",
    "    sub_filters=pickle.load( file)\n"
   ]
  },
  {
   "cell_type": "code",
   "execution_count": null,
   "id": "42b966e0",
   "metadata": {},
   "outputs": [],
   "source": [
    "path = pkl_sdirec+'alltwfilters_dscore'+key_str+'.xlsx'\n",
    "\n",
    "#############1 save excel all ######## https://xlsxwriter.readthedocs.io/example_pandas_multiple.html\n",
    "writer = pd.ExcelWriter(path, engine='xlsxwriter')\n",
    "\n",
    "df_le=pd.DataFrame([le_label_map])\n",
    "df_le.to_excel(writer, sheet_name=\"le_map\",index=False)\n",
    "\n",
    "df_fb=pd.DataFrame.from_dict(dscore_fb)\n",
    "df_fb.insert(loc = 0, column = 'sub_band', value = all_filters[1])\n",
    "df_fb.to_excel(writer, sheet_name=\"subband_dscoredm\",index=False)\n",
    "\n",
    "df_tw=pd.DataFrame.from_dict(dscore_tw)\n",
    "df_tw.insert(loc = 0, column = 'time_win', value = all_timewin[1])\n",
    "df_tw.to_excel(writer, sheet_name=\"timewin_dscoredm\",index=False)\n",
    "\n",
    "writer.save()\n",
    "writer.close()\n",
    "\n",
    "\n",
    "\n"
   ]
  },
  {
   "cell_type": "code",
   "execution_count": null,
   "id": "ae15dee4",
   "metadata": {},
   "outputs": [],
   "source": [
    "#############2 save excel best ######## https://xlsxwriter.readthedocs.io/example_pandas_multiple.html\n",
    "\n",
    "path_best=pkl_sdirec+'Best_twfilters'+key_str+'.xlsx'\n",
    "writer = pd.ExcelWriter(path_best, engine='xlsxwriter')\n",
    "\n",
    "df_tw=pd.DataFrame()\n",
    "df_tw[\"sub\"]=timewin.keys()\n",
    "df_tw[\"besttw\"]=timewin.values()\n",
    "df_tw.to_excel(writer, sheet_name=\"bestTW\",index=False)\n",
    "\n",
    "df_bfb = pd.DataFrame()\n",
    "for sub in subjects:\n",
    "    df_bfb[\"num_band\"]=sub_filters[sub].keys()\n",
    "    df_bfb[sub]=sub_filters[sub].values()\n",
    "df_bfb.to_excel(writer, sheet_name=\"bestfb\",index=False)\n",
    "\n",
    "writer.save()\n",
    "writer.close()\n",
    "\n"
   ]
  },
  {
   "cell_type": "code",
   "execution_count": null,
   "id": "4fc1e5d3",
   "metadata": {},
   "outputs": [],
   "source": []
  },
  {
   "cell_type": "code",
   "execution_count": null,
   "id": "4dea8625",
   "metadata": {},
   "outputs": [],
   "source": []
  }
 ],
 "metadata": {
  "kernelspec": {
   "display_name": "Python 3 (ipykernel)",
   "language": "python",
   "name": "python3"
  },
  "language_info": {
   "codemirror_mode": {
    "name": "ipython",
    "version": 3
   },
   "file_extension": ".py",
   "mimetype": "text/x-python",
   "name": "python",
   "nbconvert_exporter": "python",
   "pygments_lexer": "ipython3",
   "version": "3.8.15"
  },
  "vscode": {
   "interpreter": {
    "hash": "2793c4ebbbb80d1fc165d4801e8a6c765a804c7e7ba1d5682a1ddb1afca6cdeb"
   }
  }
 },
 "nbformat": 4,
 "nbformat_minor": 5
}
