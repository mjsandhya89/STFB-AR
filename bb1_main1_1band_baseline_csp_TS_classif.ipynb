{
 "cells": [
  {
   "cell_type": "code",
   "execution_count": null,
   "id": "d3797c54",
   "metadata": {},
   "outputs": [],
   "source": [
    "mode='baseline'\n",
    "import matplotlib.pyplot as plt\n",
    "import pandas as pd\n",
    "import seaborn as sns\n",
    "# from mne.decoding import CSP\n",
    "from pyriemann.spatialfilters import CSP\n",
    "from pyriemann.tangentspace import TangentSpace,FGDA\n",
    "from sklearn.discriminant_analysis import LinearDiscriminantAnalysis as LDA\n",
    "from sklearn.pipeline import make_pipeline,Pipeline\n",
    "from sklearn.model_selection import train_test_split\n",
    "from sklearn.feature_selection import SelectKBest, mutual_info_classif\n",
    "from sklearn import preprocessing\n",
    "from sklearn.svm import SVC\n",
    "from pyriemann.classification import MDM,FgMDM,MeanField\n",
    "from pyriemann.tangentspace import TangentSpace,FGDA\n",
    "import numpy as np\n",
    "import moabb,sys,os\n",
    "from moabb.datasets import BNCI2014001\n",
    "from moabb.evaluations import CrossSessionEvaluation,WithinSessionEvaluation\n",
    "from moabb.paradigms import FilterBankMotorImagery,FilterBankLeftRightImagery, LeftRightImagery,MotorImagery\n",
    "from moabb.pipelines.utils import FilterBank \n",
    "from pyriemann.estimation import Covariances\n",
    "import pyriemann\n",
    "from san_utils import getfilters,all_metrics, label_map_fn #,bestfilters\n",
    "# moabb.set_log_level(\"info\")"
   ]
  },
  {
   "cell_type": "code",
   "execution_count": 2,
   "id": "313492cc",
   "metadata": {},
   "outputs": [],
   "source": [
    "pipelines = {}\n",
    "# plist = [1.00, 0.75, 0.50, 0.25, 0.10, 0.01, -0.01, -0.10, -0.25, -0.50, -0.75, -1.00]\n",
    "# pipelines[\"FB_MeanField\"] = make_pipeline(Covariances(\"oas\"), MeanField(power_list=plist))\n",
    "# pipelines[\"FB_FGDA_MeanField\"] = make_pipeline(Covariances(\"oas\"),FGDA(), MeanField(power_list=plist))\n",
    "pipelines[\"FB_CSP_LDA\"] = make_pipeline(Covariances(\"oas\"),CSP(), LDA())\n",
    "pipelines[\"FB_CSP_SVM\"] = make_pipeline(Covariances(\"oas\"),CSP(), SVC())\n",
    "pipelines[\"FB_TS_LDA\"] = make_pipeline(Covariances(\"oas\"),TangentSpace(), LDA())\n",
    "pipelines[\"FB_TS_SVM\"] = make_pipeline(Covariances(\"oas\"),TangentSpace(), SVC())\n",
    "pipelines[\"FB_FGDA_TS_LDA\"] = make_pipeline(Covariances(\"oas\"),FGDA(),TangentSpace(), LDA())\n",
    "pipelines[\"FB_FGDA_TS_SVM\"] = make_pipeline(Covariances(\"oas\"),FGDA(),TangentSpace(), SVC())\n",
    "pipelines[\"FB_MDM\"] = make_pipeline(Covariances(\"oas\"), MDM(metric=\"riemann\"))\n",
    "pipelines[\"FB_FgMDM\"] = make_pipeline(Covariances(\"oas\"), FgMDM(metric=\"riemann\"))"
   ]
  },
  {
   "cell_type": "code",
   "execution_count": null,
   "id": "e4e96117",
   "metadata": {},
   "outputs": [],
   "source": [
    "print(X_train.shape)\n",
    "Xt=X_train;Xe=X_test\n",
    "\n",
    "print(Xt.shape)\n",
    "clf=Covariances(\"oas\") #make_pipeline(Covariances(\"oas\"),FGDA())\n",
    "Xt=clf.fit_transform(Xt,y_train);Xe=clf.transform(Xe);\n",
    "print(Xt.shape,y_train.shape)\n",
    "\n",
    "clf=FGDA() #make_pipeline(Covariances(\"oas\"),FGDA())\n",
    "clf.fit(Xt,y_train);\n",
    "Xt=clf.transform(Xt);Xe=clf.transform(Xe);\n",
    "print(Xt.shape)"
   ]
  },
  {
   "cell_type": "code",
   "execution_count": null,
   "id": "108809f4",
   "metadata": {},
   "outputs": [],
   "source": [
    "dataset = BNCI2014001()\n",
    "dataset_name=\"BNCI2014001\"\n",
    "fmin = 8; fmax = 30; \n",
    "subjects = [1, 2, 3,4,5,6,7,8,9]; \n",
    "n_class=4; # value1='word_ass';value2='right_hand'\n",
    "paradigm = MotorImagery(n_classes=n_class,fmin=fmin, fmax=fmax)\n",
    "df = pd.DataFrame(columns=['dataset','session','channels','subject','n_filters','pipeline','acc',\n",
    "                           'recall','precision','f1','kappa','sensitivity','specificity'])\n",
    "\n",
    "flg=0\n",
    "for subject in subjects:\n",
    "    print(\"subject:\",subject)\n",
    "    X, y, meta = paradigm.get_data(dataset=dataset, subjects=[subject]) \n",
    "    nchan=X.shape[1]\n",
    "    if flg==0:\n",
    "        le,le_label_map=label_map_fn(y) \n",
    "        flg=1\n",
    "    select_indices = list(np.where(meta[\"session\"] == \"session_T\")[0])\n",
    "    X0=X[select_indices,:];y0=y[select_indices]\n",
    "    select_indices = list(np.where(meta[\"session\"] == \"session_E\")[0])\n",
    "    X1=X[select_indices,:];y1=y[select_indices]\n",
    "#     ind0 = [i for i, value in enumerate(y0) if ((value == value1) or (value ==value2))]\n",
    "#     ind1 = [i for i, value in enumerate(y1) if ((value == value1) or (value ==value2))]\n",
    "#     X_train=X0[ind0];  X_test=X1[ind1]; y_train =y0[ind0] ; y_test=y1[ind1]\n",
    "#     n_class=2\n",
    "    y_train = le.transform(y0); y_test = le.transform(y1)\n",
    "    X_train=X0;X_test=X1\n",
    "    print(X_train.shape,np.unique(y_train))\n",
    "    for pipeline in pipelines:\n",
    "        print(pipeline)\n",
    "        pipe=pipelines[pipeline]\n",
    "        pipe.fit(X_train, y_train)\n",
    "        y_pred=pipe.predict(X_test)\n",
    "        acc,recall,precision,f1,kappa,sens,spec=all_metrics(y_test,y_pred)\n",
    "        print(acc)\n",
    "        df.loc[len(df)] = [dataset_name, \"session_E\", nchan, subject, 0, pipeline, acc,recall,precision,f1,kappa,sens,spec]"
   ]
  },
  {
   "cell_type": "code",
   "execution_count": null,
   "id": "91dc8f20",
   "metadata": {},
   "outputs": [],
   "source": [
    "# saving the results\n",
    "sfile_name = dataset_name+'/'+mode+'/Results_1band_baseline.csv'\n",
    "\n",
    "\n",
    "if(os.path.isfile('./'+sfile_name) ==True):\n",
    "    print(\"exists\")\n",
    "    df.to_csv(sfile_name, mode=\"a\", index=False, header=False)\n",
    "else:\n",
    "    print(\"No.. so creating\")\n",
    "    df.to_csv(sfile_name,  index=False, header=True)    \n",
    "\n",
    "\n"
   ]
  },
  {
   "cell_type": "code",
   "execution_count": null,
   "id": "7b8fb75a",
   "metadata": {},
   "outputs": [],
   "source": []
  }
 ],
 "metadata": {
  "kernelspec": {
   "display_name": "Python 3 (ipykernel)",
   "language": "python",
   "name": "python3"
  },
  "language_info": {
   "codemirror_mode": {
    "name": "ipython",
    "version": 3
   },
   "file_extension": ".py",
   "mimetype": "text/x-python",
   "name": "python",
   "nbconvert_exporter": "python",
   "pygments_lexer": "ipython3",
   "version": "3.9.12"
  }
 },
 "nbformat": 4,
 "nbformat_minor": 5
}
