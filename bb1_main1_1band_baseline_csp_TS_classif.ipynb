{
 "cells": [
  {
   "cell_type": "code",
   "execution_count": 1,
   "id": "d3797c54",
   "metadata": {},
   "outputs": [],
   "source": [
    "mode='baseline'\n",
    "import matplotlib.pyplot as plt\n",
    "import pandas as pd\n",
    "import seaborn as sns\n",
    "# from mne.decoding import CSP\n",
    "from pyriemann.spatialfilters import CSP\n",
    "from pyriemann.tangentspace import TangentSpace,FGDA\n",
    "from sklearn.discriminant_analysis import LinearDiscriminantAnalysis as LDA\n",
    "from sklearn.pipeline import make_pipeline,Pipeline\n",
    "from sklearn.model_selection import train_test_split\n",
    "from sklearn.feature_selection import SelectKBest, mutual_info_classif\n",
    "from sklearn import preprocessing\n",
    "from sklearn.svm import SVC\n",
    "from pyriemann.classification import MDM,FgMDM,MeanField\n",
    "from pyriemann.tangentspace import TangentSpace,FGDA\n",
    "import numpy as np\n",
    "import moabb,sys,os\n",
    "from moabb.datasets import BNCI2014001\n",
    "from moabb.evaluations import CrossSessionEvaluation,WithinSessionEvaluation\n",
    "from moabb.paradigms import FilterBankMotorImagery,FilterBankLeftRightImagery, LeftRightImagery,MotorImagery\n",
    "from moabb.pipelines.utils import FilterBank \n",
    "from pyriemann.estimation import Covariances\n",
    "import pyriemann\n",
    "from san_utils import getfilters,all_metrics, label_map_fn #,bestfilters\n",
    "# moabb.set_log_level(\"info\")"
   ]
  },
  {
   "cell_type": "code",
   "execution_count": 6,
   "id": "f22b8c08",
   "metadata": {},
   "outputs": [
    {
     "name": "stdout",
     "output_type": "stream",
     "text": [
      "^C\n"
     ]
    }
   ],
   "source": [
    "!pip uninstall pyriemann"
   ]
  },
  {
   "cell_type": "code",
   "execution_count": null,
   "id": "3263261a",
   "metadata": {},
   "outputs": [],
   "source": [
    "!pip install pyriemann"
   ]
  },
  {
   "cell_type": "code",
   "execution_count": 2,
   "id": "313492cc",
   "metadata": {},
   "outputs": [],
   "source": [
    "pipelines = {}\n",
    "# plist = [1.00, 0.75, 0.50, 0.25, 0.10, 0.01, -0.01, -0.10, -0.25, -0.50, -0.75, -1.00]\n",
    "# pipelines[\"FB_MeanField\"] = make_pipeline(Covariances(\"oas\"), MeanField(power_list=plist))\n",
    "# pipelines[\"FB_FGDA_MeanField\"] = make_pipeline(Covariances(\"oas\"),FGDA(), MeanField(power_list=plist))\n",
    "pipelines[\"FB_CSP_LDA\"] = make_pipeline(Covariances(\"oas\"),CSP(), LDA())\n",
    "pipelines[\"FB_CSP_SVM\"] = make_pipeline(Covariances(\"oas\"),CSP(), SVC())\n",
    "pipelines[\"FB_TS_LDA\"] = make_pipeline(Covariances(\"oas\"),TangentSpace(), LDA())\n",
    "pipelines[\"FB_TS_SVM\"] = make_pipeline(Covariances(\"oas\"),TangentSpace(), SVC())\n",
    "pipelines[\"FB_FGDA_TS_LDA\"] = make_pipeline(Covariances(\"oas\"),FGDA(),TangentSpace(), LDA())\n",
    "pipelines[\"FB_FGDA_TS_SVM\"] = make_pipeline(Covariances(\"oas\"),FGDA(),TangentSpace(), SVC())\n",
    "pipelines[\"FB_MDM\"] = make_pipeline(Covariances(\"oas\"), MDM(metric=\"riemann\"))\n",
    "pipelines[\"FB_FgMDM\"] = make_pipeline(Covariances(\"oas\"), FgMDM(metric=\"riemann\"))"
   ]
  },
  {
   "cell_type": "code",
   "execution_count": 3,
   "id": "e4e96117",
   "metadata": {},
   "outputs": [
    {
     "ename": "NameError",
     "evalue": "name 'X_train' is not defined",
     "output_type": "error",
     "traceback": [
      "\u001b[1;31m---------------------------------------------------------------------------\u001b[0m",
      "\u001b[1;31mNameError\u001b[0m                                 Traceback (most recent call last)",
      "Input \u001b[1;32mIn [3]\u001b[0m, in \u001b[0;36m<cell line: 1>\u001b[1;34m()\u001b[0m\n\u001b[1;32m----> 1\u001b[0m \u001b[38;5;28mprint\u001b[39m(\u001b[43mX_train\u001b[49m\u001b[38;5;241m.\u001b[39mshape)\n\u001b[0;32m      2\u001b[0m Xt\u001b[38;5;241m=\u001b[39mX_train;Xe\u001b[38;5;241m=\u001b[39mX_test\n\u001b[0;32m      4\u001b[0m \u001b[38;5;28mprint\u001b[39m(Xt\u001b[38;5;241m.\u001b[39mshape)\n",
      "\u001b[1;31mNameError\u001b[0m: name 'X_train' is not defined"
     ]
    }
   ],
   "source": [
    "print(X_train.shape)\n",
    "Xt=X_train;Xe=X_test\n",
    "\n",
    "print(Xt.shape)\n",
    "clf=Covariances(\"oas\") #make_pipeline(Covariances(\"oas\"),FGDA())\n",
    "Xt=clf.fit_transform(Xt,y_train);Xe=clf.transform(Xe);\n",
    "print(Xt.shape,y_train.shape)\n",
    "\n",
    "clf=FGDA() #make_pipeline(Covariances(\"oas\"),FGDA())\n",
    "clf.fit(Xt,y_train);\n",
    "Xt=clf.transform(Xt);Xe=clf.transform(Xe);\n",
    "print(Xt.shape)"
   ]
  },
  {
   "cell_type": "code",
   "execution_count": 4,
   "id": "108809f4",
   "metadata": {},
   "outputs": [
    {
     "name": "stderr",
     "output_type": "stream",
     "text": [
      "Choosing from all possible events\n"
     ]
    },
    {
     "name": "stdout",
     "output_type": "stream",
     "text": [
      "subject: 1\n",
      "(288, 22, 1001) [0 1 2 3]\n",
      "FB_CSP_LDA\n",
      "0.6875\n",
      "FB_CSP_SVM\n",
      "0.6909722222222222\n",
      "FB_TS_LDA\n"
     ]
    },
    {
     "ename": "ValueError",
     "evalue": "expected square \"a\" matrix",
     "output_type": "error",
     "traceback": [
      "\u001b[1;31m---------------------------------------------------------------------------\u001b[0m",
      "\u001b[1;31mValueError\u001b[0m                                Traceback (most recent call last)",
      "Input \u001b[1;32mIn [4]\u001b[0m, in \u001b[0;36m<cell line: 11>\u001b[1;34m()\u001b[0m\n\u001b[0;32m     30\u001b[0m \u001b[38;5;28mprint\u001b[39m(pipeline)\n\u001b[0;32m     31\u001b[0m pipe\u001b[38;5;241m=\u001b[39mpipelines[pipeline]\n\u001b[1;32m---> 32\u001b[0m \u001b[43mpipe\u001b[49m\u001b[38;5;241;43m.\u001b[39;49m\u001b[43mfit\u001b[49m\u001b[43m(\u001b[49m\u001b[43mX_train\u001b[49m\u001b[43m,\u001b[49m\u001b[43m \u001b[49m\u001b[43my_train\u001b[49m\u001b[43m)\u001b[49m\n\u001b[0;32m     33\u001b[0m y_pred\u001b[38;5;241m=\u001b[39mpipe\u001b[38;5;241m.\u001b[39mpredict(X_test)\n\u001b[0;32m     34\u001b[0m acc,recall,precision,f1,kappa,sens,spec\u001b[38;5;241m=\u001b[39mall_metrics(y_test,y_pred)\n",
      "File \u001b[1;32m~\\anaconda3\\envs\\RPA1\\lib\\site-packages\\sklearn\\pipeline.py:378\u001b[0m, in \u001b[0;36mPipeline.fit\u001b[1;34m(self, X, y, **fit_params)\u001b[0m\n\u001b[0;32m    352\u001b[0m \u001b[38;5;124;03m\"\"\"Fit the model.\u001b[39;00m\n\u001b[0;32m    353\u001b[0m \n\u001b[0;32m    354\u001b[0m \u001b[38;5;124;03mFit all the transformers one after the other and transform the\u001b[39;00m\n\u001b[1;32m   (...)\u001b[0m\n\u001b[0;32m    375\u001b[0m \u001b[38;5;124;03m    Pipeline with fitted steps.\u001b[39;00m\n\u001b[0;32m    376\u001b[0m \u001b[38;5;124;03m\"\"\"\u001b[39;00m\n\u001b[0;32m    377\u001b[0m fit_params_steps \u001b[38;5;241m=\u001b[39m \u001b[38;5;28mself\u001b[39m\u001b[38;5;241m.\u001b[39m_check_fit_params(\u001b[38;5;241m*\u001b[39m\u001b[38;5;241m*\u001b[39mfit_params)\n\u001b[1;32m--> 378\u001b[0m Xt \u001b[38;5;241m=\u001b[39m \u001b[38;5;28mself\u001b[39m\u001b[38;5;241m.\u001b[39m_fit(X, y, \u001b[38;5;241m*\u001b[39m\u001b[38;5;241m*\u001b[39mfit_params_steps)\n\u001b[0;32m    379\u001b[0m \u001b[38;5;28;01mwith\u001b[39;00m _print_elapsed_time(\u001b[38;5;124m\"\u001b[39m\u001b[38;5;124mPipeline\u001b[39m\u001b[38;5;124m\"\u001b[39m, \u001b[38;5;28mself\u001b[39m\u001b[38;5;241m.\u001b[39m_log_message(\u001b[38;5;28mlen\u001b[39m(\u001b[38;5;28mself\u001b[39m\u001b[38;5;241m.\u001b[39msteps) \u001b[38;5;241m-\u001b[39m \u001b[38;5;241m1\u001b[39m)):\n\u001b[0;32m    380\u001b[0m     \u001b[38;5;28;01mif\u001b[39;00m \u001b[38;5;28mself\u001b[39m\u001b[38;5;241m.\u001b[39m_final_estimator \u001b[38;5;241m!=\u001b[39m \u001b[38;5;124m\"\u001b[39m\u001b[38;5;124mpassthrough\u001b[39m\u001b[38;5;124m\"\u001b[39m:\n",
      "File \u001b[1;32m~\\anaconda3\\envs\\RPA1\\lib\\site-packages\\sklearn\\pipeline.py:336\u001b[0m, in \u001b[0;36mPipeline._fit\u001b[1;34m(self, X, y, **fit_params_steps)\u001b[0m\n\u001b[0;32m    334\u001b[0m     cloned_transformer \u001b[38;5;241m=\u001b[39m clone(transformer)\n\u001b[0;32m    335\u001b[0m \u001b[38;5;66;03m# Fit or load from cache the current transformer\u001b[39;00m\n\u001b[1;32m--> 336\u001b[0m X, fitted_transformer \u001b[38;5;241m=\u001b[39m fit_transform_one_cached(\n\u001b[0;32m    337\u001b[0m     cloned_transformer,\n\u001b[0;32m    338\u001b[0m     X,\n\u001b[0;32m    339\u001b[0m     y,\n\u001b[0;32m    340\u001b[0m     \u001b[38;5;28;01mNone\u001b[39;00m,\n\u001b[0;32m    341\u001b[0m     message_clsname\u001b[38;5;241m=\u001b[39m\u001b[38;5;124m\"\u001b[39m\u001b[38;5;124mPipeline\u001b[39m\u001b[38;5;124m\"\u001b[39m,\n\u001b[0;32m    342\u001b[0m     message\u001b[38;5;241m=\u001b[39m\u001b[38;5;28mself\u001b[39m\u001b[38;5;241m.\u001b[39m_log_message(step_idx),\n\u001b[0;32m    343\u001b[0m     \u001b[38;5;241m*\u001b[39m\u001b[38;5;241m*\u001b[39mfit_params_steps[name],\n\u001b[0;32m    344\u001b[0m )\n\u001b[0;32m    345\u001b[0m \u001b[38;5;66;03m# Replace the transformer of the step with the fitted\u001b[39;00m\n\u001b[0;32m    346\u001b[0m \u001b[38;5;66;03m# transformer. This is necessary when loading the transformer\u001b[39;00m\n\u001b[0;32m    347\u001b[0m \u001b[38;5;66;03m# from the cache.\u001b[39;00m\n\u001b[0;32m    348\u001b[0m \u001b[38;5;28mself\u001b[39m\u001b[38;5;241m.\u001b[39msteps[step_idx] \u001b[38;5;241m=\u001b[39m (name, fitted_transformer)\n",
      "File \u001b[1;32m~\\anaconda3\\envs\\RPA1\\lib\\site-packages\\joblib\\memory.py:349\u001b[0m, in \u001b[0;36mNotMemorizedFunc.__call__\u001b[1;34m(self, *args, **kwargs)\u001b[0m\n\u001b[0;32m    348\u001b[0m \u001b[38;5;28;01mdef\u001b[39;00m \u001b[38;5;21m__call__\u001b[39m(\u001b[38;5;28mself\u001b[39m, \u001b[38;5;241m*\u001b[39margs, \u001b[38;5;241m*\u001b[39m\u001b[38;5;241m*\u001b[39mkwargs):\n\u001b[1;32m--> 349\u001b[0m     \u001b[38;5;28;01mreturn\u001b[39;00m \u001b[38;5;28mself\u001b[39m\u001b[38;5;241m.\u001b[39mfunc(\u001b[38;5;241m*\u001b[39margs, \u001b[38;5;241m*\u001b[39m\u001b[38;5;241m*\u001b[39mkwargs)\n",
      "File \u001b[1;32m~\\anaconda3\\envs\\RPA1\\lib\\site-packages\\sklearn\\pipeline.py:870\u001b[0m, in \u001b[0;36m_fit_transform_one\u001b[1;34m(transformer, X, y, weight, message_clsname, message, **fit_params)\u001b[0m\n\u001b[0;32m    868\u001b[0m \u001b[38;5;28;01mwith\u001b[39;00m _print_elapsed_time(message_clsname, message):\n\u001b[0;32m    869\u001b[0m     \u001b[38;5;28;01mif\u001b[39;00m \u001b[38;5;28mhasattr\u001b[39m(transformer, \u001b[38;5;124m\"\u001b[39m\u001b[38;5;124mfit_transform\u001b[39m\u001b[38;5;124m\"\u001b[39m):\n\u001b[1;32m--> 870\u001b[0m         res \u001b[38;5;241m=\u001b[39m transformer\u001b[38;5;241m.\u001b[39mfit_transform(X, y, \u001b[38;5;241m*\u001b[39m\u001b[38;5;241m*\u001b[39mfit_params)\n\u001b[0;32m    871\u001b[0m     \u001b[38;5;28;01melse\u001b[39;00m:\n\u001b[0;32m    872\u001b[0m         res \u001b[38;5;241m=\u001b[39m transformer\u001b[38;5;241m.\u001b[39mfit(X, y, \u001b[38;5;241m*\u001b[39m\u001b[38;5;241m*\u001b[39mfit_params)\u001b[38;5;241m.\u001b[39mtransform(X)\n",
      "File \u001b[1;32m~\\anaconda3\\envs\\RPA1\\lib\\site-packages\\pyriemann\\tangentspace.py:167\u001b[0m, in \u001b[0;36mTangentSpace.fit_transform\u001b[1;34m(self, X, y, sample_weight)\u001b[0m\n\u001b[0;32m    165\u001b[0m \u001b[38;5;66;03m# compute mean covariance\u001b[39;00m\n\u001b[0;32m    166\u001b[0m \u001b[38;5;28mself\u001b[39m\u001b[38;5;241m.\u001b[39m_check_reference_points(X)\n\u001b[1;32m--> 167\u001b[0m \u001b[38;5;28mself\u001b[39m\u001b[38;5;241m.\u001b[39mreference_ \u001b[38;5;241m=\u001b[39m \u001b[43mmean_covariance\u001b[49m\u001b[43m(\u001b[49m\u001b[43mX\u001b[49m\u001b[43m,\u001b[49m\u001b[43m \u001b[49m\u001b[43mmetric\u001b[49m\u001b[38;5;241;43m=\u001b[39;49m\u001b[38;5;28;43mself\u001b[39;49m\u001b[38;5;241;43m.\u001b[39;49m\u001b[43mmetric\u001b[49m\u001b[43m,\u001b[49m\n\u001b[0;32m    168\u001b[0m \u001b[43m                                  \u001b[49m\u001b[43msample_weight\u001b[49m\u001b[38;5;241;43m=\u001b[39;49m\u001b[43msample_weight\u001b[49m\u001b[43m)\u001b[49m\n\u001b[0;32m    169\u001b[0m \u001b[38;5;28;01mreturn\u001b[39;00m tangent_space(X, \u001b[38;5;28mself\u001b[39m\u001b[38;5;241m.\u001b[39mreference_)\n",
      "File \u001b[1;32m~\\anaconda3\\envs\\RPA1\\lib\\site-packages\\pyriemann\\utils\\mean.py:574\u001b[0m, in \u001b[0;36mmean_covariance\u001b[1;34m(covmats, metric, sample_weight, *args)\u001b[0m\n\u001b[0;32m    572\u001b[0m     C \u001b[38;5;241m=\u001b[39m metric(covmats, sample_weight\u001b[38;5;241m=\u001b[39msample_weight, \u001b[38;5;241m*\u001b[39margs)\n\u001b[0;32m    573\u001b[0m \u001b[38;5;28;01melse\u001b[39;00m:\n\u001b[1;32m--> 574\u001b[0m     C \u001b[38;5;241m=\u001b[39m \u001b[43mmean_methods\u001b[49m\u001b[43m[\u001b[49m\u001b[43mmetric\u001b[49m\u001b[43m]\u001b[49m\u001b[43m(\u001b[49m\u001b[43mcovmats\u001b[49m\u001b[43m,\u001b[49m\u001b[43m \u001b[49m\u001b[43msample_weight\u001b[49m\u001b[38;5;241;43m=\u001b[39;49m\u001b[43msample_weight\u001b[49m\u001b[43m,\u001b[49m\u001b[43m \u001b[49m\u001b[38;5;241;43m*\u001b[39;49m\u001b[43margs\u001b[49m\u001b[43m)\u001b[49m\n\u001b[0;32m    575\u001b[0m \u001b[38;5;28;01mreturn\u001b[39;00m C\n",
      "File \u001b[1;32m~\\anaconda3\\envs\\RPA1\\lib\\site-packages\\pyriemann\\utils\\mean.py:443\u001b[0m, in \u001b[0;36mmean_riemann\u001b[1;34m(covmats, tol, maxiter, init, sample_weight)\u001b[0m\n\u001b[0;32m    441\u001b[0m \u001b[38;5;28;01mfor\u001b[39;00m k \u001b[38;5;129;01min\u001b[39;00m \u001b[38;5;28mrange\u001b[39m(maxiter):\n\u001b[0;32m    442\u001b[0m     C12, Cm12 \u001b[38;5;241m=\u001b[39m sqrtm(C), invsqrtm(C)\n\u001b[1;32m--> 443\u001b[0m     J \u001b[38;5;241m=\u001b[39m np\u001b[38;5;241m.\u001b[39meinsum(\u001b[38;5;124m'\u001b[39m\u001b[38;5;124ma,abc->bc\u001b[39m\u001b[38;5;124m'\u001b[39m, sample_weight, \u001b[43mlogm\u001b[49m\u001b[43m(\u001b[49m\u001b[43mCm12\u001b[49m\u001b[43m \u001b[49m\u001b[38;5;241;43m@\u001b[39;49m\u001b[43m \u001b[49m\u001b[43mcovmats\u001b[49m\u001b[43m \u001b[49m\u001b[38;5;241;43m@\u001b[39;49m\u001b[43m \u001b[49m\u001b[43mCm12\u001b[49m\u001b[43m)\u001b[49m)\n\u001b[0;32m    444\u001b[0m     C \u001b[38;5;241m=\u001b[39m C12 \u001b[38;5;241m@\u001b[39m expm(nu \u001b[38;5;241m*\u001b[39m J) \u001b[38;5;241m@\u001b[39m C12\n\u001b[0;32m    446\u001b[0m     crit \u001b[38;5;241m=\u001b[39m np\u001b[38;5;241m.\u001b[39mlinalg\u001b[38;5;241m.\u001b[39mnorm(J, \u001b[38;5;28mord\u001b[39m\u001b[38;5;241m=\u001b[39m\u001b[38;5;124m'\u001b[39m\u001b[38;5;124mfro\u001b[39m\u001b[38;5;124m'\u001b[39m)\n",
      "File \u001b[1;32m~\\anaconda3\\envs\\RPA1\\lib\\site-packages\\pyriemann\\utils\\base.py:46\u001b[0m, in \u001b[0;36mlogm\u001b[1;34m(Ci)\u001b[0m\n\u001b[0;32m     33\u001b[0m \u001b[38;5;28;01mdef\u001b[39;00m \u001b[38;5;21mlogm\u001b[39m(Ci):\n\u001b[0;32m     34\u001b[0m     \u001b[38;5;124;03m\"\"\"Return the matrix logarithm of a covariance matrix defined by :\u001b[39;00m\n\u001b[0;32m     35\u001b[0m \n\u001b[0;32m     36\u001b[0m \u001b[38;5;124;03m    .. math::\u001b[39;00m\n\u001b[1;32m   (...)\u001b[0m\n\u001b[0;32m     44\u001b[0m \n\u001b[0;32m     45\u001b[0m \u001b[38;5;124;03m    \"\"\"\u001b[39;00m\n\u001b[1;32m---> 46\u001b[0m     \u001b[38;5;28;01mreturn\u001b[39;00m \u001b[43m_matrix_operator\u001b[49m\u001b[43m(\u001b[49m\u001b[43mCi\u001b[49m\u001b[43m,\u001b[49m\u001b[43m \u001b[49m\u001b[43mnumpy\u001b[49m\u001b[38;5;241;43m.\u001b[39;49m\u001b[43mlog\u001b[49m\u001b[43m)\u001b[49m\n",
      "File \u001b[1;32m~\\anaconda3\\envs\\RPA1\\lib\\site-packages\\pyriemann\\utils\\base.py:11\u001b[0m, in \u001b[0;36m_matrix_operator\u001b[1;34m(Ci, operator)\u001b[0m\n\u001b[0;32m      9\u001b[0m \u001b[38;5;28;01mif\u001b[39;00m Ci\u001b[38;5;241m.\u001b[39mdtype\u001b[38;5;241m.\u001b[39mchar \u001b[38;5;129;01min\u001b[39;00m typecodes[\u001b[38;5;124m'\u001b[39m\u001b[38;5;124mAllFloat\u001b[39m\u001b[38;5;124m'\u001b[39m] \u001b[38;5;129;01mand\u001b[39;00m \u001b[38;5;129;01mnot\u001b[39;00m numpy\u001b[38;5;241m.\u001b[39misfinite(Ci)\u001b[38;5;241m.\u001b[39mall():\n\u001b[0;32m     10\u001b[0m     \u001b[38;5;28;01mraise\u001b[39;00m \u001b[38;5;167;01mValueError\u001b[39;00m(\u001b[38;5;124m\"\u001b[39m\u001b[38;5;124mCovariance matrices must be positive definite. Add regularization to avoid this error.\u001b[39m\u001b[38;5;124m\"\u001b[39m)\n\u001b[1;32m---> 11\u001b[0m eigvals, eigvects \u001b[38;5;241m=\u001b[39m \u001b[43mscipy\u001b[49m\u001b[38;5;241;43m.\u001b[39;49m\u001b[43mlinalg\u001b[49m\u001b[38;5;241;43m.\u001b[39;49m\u001b[43meigh\u001b[49m\u001b[43m(\u001b[49m\u001b[43mCi\u001b[49m\u001b[43m,\u001b[49m\u001b[43m \u001b[49m\u001b[43mcheck_finite\u001b[49m\u001b[38;5;241;43m=\u001b[39;49m\u001b[38;5;28;43;01mFalse\u001b[39;49;00m\u001b[43m)\u001b[49m\n\u001b[0;32m     12\u001b[0m eigvals \u001b[38;5;241m=\u001b[39m numpy\u001b[38;5;241m.\u001b[39mdiag(operator(eigvals))\n\u001b[0;32m     13\u001b[0m Out \u001b[38;5;241m=\u001b[39m numpy\u001b[38;5;241m.\u001b[39mdot(numpy\u001b[38;5;241m.\u001b[39mdot(eigvects, eigvals), eigvects\u001b[38;5;241m.\u001b[39mT)\n",
      "File \u001b[1;32m~\\anaconda3\\envs\\RPA1\\lib\\site-packages\\scipy\\linalg\\decomp.py:447\u001b[0m, in \u001b[0;36meigh\u001b[1;34m(a, b, lower, eigvals_only, overwrite_a, overwrite_b, turbo, eigvals, type, check_finite, subset_by_index, subset_by_value, driver)\u001b[0m\n\u001b[0;32m    445\u001b[0m a1 \u001b[38;5;241m=\u001b[39m _asarray_validated(a, check_finite\u001b[38;5;241m=\u001b[39mcheck_finite)\n\u001b[0;32m    446\u001b[0m \u001b[38;5;28;01mif\u001b[39;00m \u001b[38;5;28mlen\u001b[39m(a1\u001b[38;5;241m.\u001b[39mshape) \u001b[38;5;241m!=\u001b[39m \u001b[38;5;241m2\u001b[39m \u001b[38;5;129;01mor\u001b[39;00m a1\u001b[38;5;241m.\u001b[39mshape[\u001b[38;5;241m0\u001b[39m] \u001b[38;5;241m!=\u001b[39m a1\u001b[38;5;241m.\u001b[39mshape[\u001b[38;5;241m1\u001b[39m]:\n\u001b[1;32m--> 447\u001b[0m     \u001b[38;5;28;01mraise\u001b[39;00m \u001b[38;5;167;01mValueError\u001b[39;00m(\u001b[38;5;124m'\u001b[39m\u001b[38;5;124mexpected square \u001b[39m\u001b[38;5;124m\"\u001b[39m\u001b[38;5;124ma\u001b[39m\u001b[38;5;124m\"\u001b[39m\u001b[38;5;124m matrix\u001b[39m\u001b[38;5;124m'\u001b[39m)\n\u001b[0;32m    448\u001b[0m overwrite_a \u001b[38;5;241m=\u001b[39m overwrite_a \u001b[38;5;129;01mor\u001b[39;00m (_datacopied(a1, a))\n\u001b[0;32m    449\u001b[0m cplx \u001b[38;5;241m=\u001b[39m \u001b[38;5;28;01mTrue\u001b[39;00m \u001b[38;5;28;01mif\u001b[39;00m iscomplexobj(a1) \u001b[38;5;28;01melse\u001b[39;00m \u001b[38;5;28;01mFalse\u001b[39;00m\n",
      "\u001b[1;31mValueError\u001b[0m: expected square \"a\" matrix"
     ]
    }
   ],
   "source": [
    "dataset = BNCI2014001()\n",
    "dataset_name=\"BNCI2014001\"\n",
    "fmin = 8; fmax = 30; \n",
    "subjects = [1, 2, 3,4,5,6,7,8,9]; \n",
    "n_class=4; # value1='word_ass';value2='right_hand'\n",
    "paradigm = MotorImagery(n_classes=n_class,fmin=fmin, fmax=fmax)\n",
    "df = pd.DataFrame(columns=['dataset','session','channels','subject','n_filters','pipeline','acc',\n",
    "                           'recall','precision','f1','kappa','sensitivity','specificity'])\n",
    "\n",
    "flg=0\n",
    "for subject in subjects:\n",
    "    print(\"subject:\",subject)\n",
    "    X, y, meta = paradigm.get_data(dataset=dataset, subjects=[subject]) \n",
    "    nchan=X.shape[1]\n",
    "    if flg==0:\n",
    "        le,le_label_map=label_map_fn(y) \n",
    "        flg=1\n",
    "    select_indices = list(np.where(meta[\"session\"] == \"session_T\")[0])\n",
    "    X0=X[select_indices,:];y0=y[select_indices]\n",
    "    select_indices = list(np.where(meta[\"session\"] == \"session_E\")[0])\n",
    "    X1=X[select_indices,:];y1=y[select_indices]\n",
    "#     ind0 = [i for i, value in enumerate(y0) if ((value == value1) or (value ==value2))]\n",
    "#     ind1 = [i for i, value in enumerate(y1) if ((value == value1) or (value ==value2))]\n",
    "#     X_train=X0[ind0];  X_test=X1[ind1]; y_train =y0[ind0] ; y_test=y1[ind1]\n",
    "#     n_class=2\n",
    "    y_train = le.transform(y0); y_test = le.transform(y1)\n",
    "    X_train=X0;X_test=X1\n",
    "    print(X_train.shape,np.unique(y_train))\n",
    "    for pipeline in pipelines:\n",
    "        print(pipeline)\n",
    "        pipe=pipelines[pipeline]\n",
    "        pipe.fit(X_train, y_train)\n",
    "        y_pred=pipe.predict(X_test)\n",
    "        acc,recall,precision,f1,kappa,sens,spec=all_metrics(y_test,y_pred)\n",
    "        print(acc)\n",
    "        df.loc[len(df)] = [dataset_name, \"session_E\", nchan, subject, 0, pipeline, acc,recall,precision,f1,kappa,sens,spec]"
   ]
  },
  {
   "cell_type": "code",
   "execution_count": 11,
   "id": "02223da6",
   "metadata": {},
   "outputs": [
    {
     "data": {
      "text/html": [
       "<div>\n",
       "<style scoped>\n",
       "    .dataframe tbody tr th:only-of-type {\n",
       "        vertical-align: middle;\n",
       "    }\n",
       "\n",
       "    .dataframe tbody tr th {\n",
       "        vertical-align: top;\n",
       "    }\n",
       "\n",
       "    .dataframe thead th {\n",
       "        text-align: right;\n",
       "    }\n",
       "</style>\n",
       "<table border=\"1\" class=\"dataframe\">\n",
       "  <thead>\n",
       "    <tr style=\"text-align: right;\">\n",
       "      <th></th>\n",
       "      <th>dataset</th>\n",
       "      <th>session</th>\n",
       "      <th>channels</th>\n",
       "      <th>subject</th>\n",
       "      <th>n_filters</th>\n",
       "      <th>pipeline</th>\n",
       "      <th>acc</th>\n",
       "      <th>recall</th>\n",
       "      <th>precision</th>\n",
       "      <th>f1</th>\n",
       "      <th>kappa</th>\n",
       "      <th>sensitivity</th>\n",
       "      <th>specificity</th>\n",
       "    </tr>\n",
       "  </thead>\n",
       "  <tbody>\n",
       "  </tbody>\n",
       "</table>\n",
       "</div>"
      ],
      "text/plain": [
       "Empty DataFrame\n",
       "Columns: [dataset, session, channels, subject, n_filters, pipeline, acc, recall, precision, f1, kappa, sensitivity, specificity]\n",
       "Index: []"
      ]
     },
     "execution_count": 11,
     "metadata": {},
     "output_type": "execute_result"
    }
   ],
   "source": [
    "df"
   ]
  },
  {
   "cell_type": "code",
   "execution_count": 50,
   "id": "91dc8f20",
   "metadata": {},
   "outputs": [
    {
     "name": "stdout",
     "output_type": "stream",
     "text": [
      "No.. so creating\n"
     ]
    }
   ],
   "source": [
    "# saving the results\n",
    "sfile_name = dataset_name+'/'+mode+'/Results_1band_baseline.csv'\n",
    "\n",
    "\n",
    "if(os.path.isfile('./'+sfile_name) ==True):\n",
    "    print(\"exists\")\n",
    "    df.to_csv(sfile_name, mode=\"a\", index=False, header=False)\n",
    "else:\n",
    "    print(\"No.. so creating\")\n",
    "    df.to_csv(sfile_name,  index=False, header=True)    \n",
    "\n",
    "\n"
   ]
  },
  {
   "cell_type": "code",
   "execution_count": null,
   "id": "7b8fb75a",
   "metadata": {},
   "outputs": [],
   "source": []
  }
 ],
 "metadata": {
  "kernelspec": {
   "display_name": "Python 3 (ipykernel)",
   "language": "python",
   "name": "python3"
  },
  "language_info": {
   "codemirror_mode": {
    "name": "ipython",
    "version": 3
   },
   "file_extension": ".py",
   "mimetype": "text/x-python",
   "name": "python",
   "nbconvert_exporter": "python",
   "pygments_lexer": "ipython3",
   "version": "3.9.12"
  }
 },
 "nbformat": 4,
 "nbformat_minor": 5
}
