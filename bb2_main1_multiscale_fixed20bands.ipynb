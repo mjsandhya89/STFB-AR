{
 "cells": [
  {
   "cell_type": "code",
   "execution_count": 9,
   "id": "d3797c54",
   "metadata": {},
   "outputs": [],
   "source": [
    "mode='baseline_fb'\n",
    "import matplotlib.pyplot as plt\n",
    "import pandas as pd\n",
    "import seaborn as sns\n",
    "# from mne.decoding import CSP\n",
    "from pyriemann.spatialfilters import CSP\n",
    "from pyriemann.tangentspace import TangentSpace,FGDA\n",
    "from sklearn.discriminant_analysis import LinearDiscriminantAnalysis as LDA\n",
    "from sklearn.pipeline import make_pipeline,Pipeline\n",
    "from sklearn.model_selection import train_test_split\n",
    "from sklearn.feature_selection import SelectKBest, mutual_info_classif\n",
    "from sklearn import preprocessing\n",
    "from sklearn.svm import SVC\n",
    "\n",
    "import numpy as np\n",
    "import moabb,sys,os,pickle\n",
    "from moabb.datasets import BNCI2014001\n",
    "from moabb.evaluations import CrossSessionEvaluation,WithinSessionEvaluation\n",
    "from moabb.paradigms import FilterBankMotorImagery,FilterBankLeftRightImagery, LeftRightImagery,MotorImagery\n",
    "from moabb.pipelines.utils import FilterBank\n",
    "from pyriemann.estimation import Covariances\n",
    "import pyriemann\n",
    "from san_utils import *\n",
    "from pyriemann.classification import MDM,FgMDM\n",
    "### FB_MDM  ###\n"
   ]
  },
  {
   "cell_type": "code",
   "execution_count": 11,
   "id": "40c0ecd3",
   "metadata": {},
   "outputs": [],
   "source": [
    "pipelines = {}\n",
    "fb=FilterBank(make_pipeline(Covariances(estimator=\"oas\")),flatten=False)\n",
    "\n",
    "fb1 = FilterBank(make_pipeline(Covariances(estimator=\"oas\"), CSP(nfilter=4)))\n",
    "fb2 = FilterBank(make_pipeline(Covariances(estimator=\"oas\"), TangentSpace()))\n",
    "fb3 = FilterBank(make_pipeline(Covariances(estimator=\"oas\"),FGDA(), TangentSpace()))\n",
    "\n",
    "pipelines[\"FB_CSP_LDA\"] = make_pipeline(fb1, LDA())\n",
    "pipelines[\"FB_CSP_SVM\"] = make_pipeline(fb1, SVC(kernel=\"linear\"))\n",
    "pipelines[\"FB_TS_LDA\"] = make_pipeline(fb2, LDA())\n",
    "pipelines[\"FB_TS_SVM\"] = make_pipeline(fb2, SVC(kernel=\"linear\"))\n",
    "pipelines[\"FB_FGDA_TS_LDA\"] = make_pipeline(fb3, LDA())\n",
    "pipelines[\"FB_FGDA_TS_SVM\"] = make_pipeline(fb3, SVC(kernel=\"linear\"))\n",
    "def save_pkl(xt,xe,yt,ye,le_map,direc):\n",
    "    with open(direc+'/xt_cnn7.pkl', 'wb') as file:\n",
    "        pickle.dump(xt, file)\n",
    "    with open(direc+'/xe_cnn7.pkl', 'wb') as file:\n",
    "        pickle.dump(xe, file)\n",
    "    with open(direc+'/yt_cnn7.pkl', 'wb') as file:\n",
    "        pickle.dump(yt, file)\n",
    "    with open(direc+'/ye_cnn7.pkl', 'wb') as file:\n",
    "        pickle.dump(ye, file) \n",
    "    with open(direc+'/le_map_cnn7.pkl', 'wb') as file:\n",
    "        pickle.dump(le_map, file) \n"
   ]
  },
  {
   "cell_type": "code",
   "execution_count": 13,
   "id": "108809f4",
   "metadata": {
    "scrolled": true
   },
   "outputs": [
    {
     "name": "stderr",
     "output_type": "stream",
     "text": [
      "Choosing from all possible events\n"
     ]
    },
    {
     "name": "stdout",
     "output_type": "stream",
     "text": [
      "subject: 1\n",
      "subject: 2\n",
      "subject: 3\n",
      "subject: 4\n",
      "subject: 5\n",
      "subject: 6\n",
      "subject: 7\n",
      "subject: 8\n",
      "subject: 9\n"
     ]
    }
   ],
   "source": [
    "dataset = BNCI2014001()\n",
    "dataset_name=\"BNCI2014001\"\n",
    "subjects = [1, 2, 3,4,5,6,7,8,9]; n_class=4 ; sfreq=250 \n",
    "\n",
    "allfilters=[[8, 12], [12, 16], [16, 20], [20, 24], [24, 28], [28, 34],[34,38]]\n",
    "\n",
    "# allfilters=[[4,8],[8, 12], [12, 16], [16, 20], [20, 24], [24, 28], [28, 32],[32,36],[36,40],\n",
    "#             [ 4., 10.],[10., 16.],[16., 22.],[22., 28.],[28., 34.],[34., 40.],\n",
    "#            [ 4., 12.],[12., 20.],[20., 28.],[28., 36.],[8,30]]\n",
    "\n",
    "# allfilters=[[8, 12], [12, 16], [16, 20], [20, 24], [24, 28],\n",
    "#             [ 8, 14.],[14., 20.],[20., 26.],\n",
    "#            [ 8, 16.],[16., 24.],[24., 32.],\n",
    "#            [ 8., 10.],[10., 12.],[12., 14.],[14., 16.],[16., 18.],[18., 20.],[20., 22.],[22., 24.],[24., 26.]]\n",
    "nfilt=len(allfilters)\n",
    "\n",
    "paradigm = FilterBankMotorImagery(filters=allfilters,n_classes=n_class)\n",
    "df = pd.DataFrame(columns=['dataset','session','channels','subject','n_filters','pipeline','acc','recall','precision','f1','kappa'])\n",
    "flg=0\n",
    "xt={};yt={};xe={};ye={}\n",
    "for subject in subjects:\n",
    "    print(\"subject:\",subject)\n",
    "    X, y, meta = paradigm.get_data(dataset=dataset, subjects=[subject])\n",
    "    nchan=X.shape[1]\n",
    "    if flg==0:\n",
    "        le,le_label_map=label_map_fn(y) \n",
    "        flg=1\n",
    "    select_indices = list(np.where(meta[\"session\"] == \"session_T\")[0])\n",
    "    X0=X[select_indices,:];y0=y[select_indices]\n",
    "    select_indices = list(np.where(meta[\"session\"] == \"session_E\")[0])\n",
    "    X1=X[select_indices,:];y1=y[select_indices]\n",
    "#     ind0 = [i for i, value in enumerate(y0) if ((value == value1) or (value ==value2))]\n",
    "#     ind1 = [i for i, value in enumerate(y1) if ((value == value1) or (value ==value2))]\n",
    "#     X_train=X0[ind0];  X_test=X1[ind1]; y_train =y0[ind0] ; y_test=y1[ind1]\n",
    "#     n_class=2;le,le_label_map=label_map_fn(y_train)\n",
    "    y_train = le.transform(y0);y_test = le.transform(y1)\n",
    "    X_train=X0;X_test=X1\n",
    "    ### save to cnn ###\n",
    "    yt[(subject,len(allfilters))]=y_train; ye[(subject,len(allfilters))]=y_test; \n",
    "    fb.fit(X_train, ); xt[(subject,len(allfilters))]=fb.transform(X_train); xe[(subject,len(allfilters))]=fb.transform(X_test)\n",
    "direc=dataset_name+'/'+mode\n",
    "save_pkl(xt,xe,yt,ye,le_label_map,direc)\n",
    "    ### save to cnn ###\n",
    "    \n",
    "#     #### FB CSP,TS classifiers ###\n",
    "#     for pipeline in pipelines:\n",
    "#         pipe=pipelines[pipeline]\n",
    "#         pipe.fit(X_train, y_train)\n",
    "#         y_pred=pipe.predict(X_test)\n",
    "#         acc,recall,precision,f1,kappa=all_metrics(y_test,y_pred)\n",
    "            \n",
    "#         df.loc[len(df)] = [dataset_name, \"session_E\", nchan, subject, nfilt, pipeline, acc,recall,precision,f1,kappa]\n",
    "#     #### FB_MDM ###\n",
    "#     fb1 = FilterBank(make_pipeline(Covariances(estimator=\"oas\"),MDM()), flatten=False)\n",
    "#     a,y_pred=FB_MDM(X_train,y_train,X_test,y_test,fb1)\n",
    "#     acc,recall,precision,f1,kappa=all_metrics(y_test,y_pred)\n",
    "#     df.loc[len(df)] = [dataset_name, \"session_E\", nchan, subject, nfilt, \"FB_MDM\", acc,recall,precision,f1,kappa]\n",
    "#     #### FB_FgMDM ###\n",
    "#     fb2 = FilterBank(make_pipeline(Covariances(estimator=\"oas\"),FgMDM()), flatten=False)\n",
    "#     a,y_pred=FB_FgMDM(X_train,y_train,X_test,y_test,fb2) \n",
    "#     acc,recall,precision,f1,kappa=all_metrics(y_test,y_pred)\n",
    "#     df.loc[len(df)] = [dataset_name, \"session_E\", nchan, subject, nfilt, \"FB_FgMDM\", acc,recall,precision,f1,kappa]"
   ]
  },
  {
   "cell_type": "code",
   "execution_count": null,
   "id": "91dc8f20",
   "metadata": {},
   "outputs": [],
   "source": [
    "# saving the results\n",
    "sfile_name = dataset_name+'/'+mode+'/Results_multiscale_fixed'+str(nfilt)+'bands.csv'\n",
    "\n",
    "if(os.path.isfile('./'+sfile_name) ==True):\n",
    "    print(\"exists\")\n",
    "    df.to_csv(sfile_name, mode=\"a\", index=False, header=False)\n",
    "else:\n",
    "    print(\"No.. so creating\")\n",
    "    df.to_csv(sfile_name,  index=False, header=True)    \n",
    "\n",
    "\n"
   ]
  },
  {
   "cell_type": "code",
   "execution_count": null,
   "id": "7b8fb75a",
   "metadata": {},
   "outputs": [],
   "source": []
  }
 ],
 "metadata": {
  "kernelspec": {
   "display_name": "Python 3 (ipykernel)",
   "language": "python",
   "name": "python3"
  },
  "language_info": {
   "codemirror_mode": {
    "name": "ipython",
    "version": 3
   },
   "file_extension": ".py",
   "mimetype": "text/x-python",
   "name": "python",
   "nbconvert_exporter": "python",
   "pygments_lexer": "ipython3",
   "version": "3.9.12"
  }
 },
 "nbformat": 4,
 "nbformat_minor": 5
}
